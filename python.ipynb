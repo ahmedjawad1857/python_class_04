{
 "cells": [
  {
   "cell_type": "markdown",
   "metadata": {},
   "source": [
    "# Python List,indexing,slicing,list-methoda/attributes"
   ]
  },
  {
   "cell_type": "markdown",
   "metadata": {},
   "source": [
    "What is list?<br>\n",
    "List is used for save many values in one variables like javascript arrays"
   ]
  },
  {
   "cell_type": "markdown",
   "metadata": {},
   "source": [
    "## List"
   ]
  },
  {
   "cell_type": "markdown",
   "metadata": {},
   "source": [
    "• dynamic length <br>\n",
    "• hetrogenous data types (Multiple type) <br>\n",
    "• index <br>\n",
    "&nbsp;• postive 0 to n-1<br>\n",
    "&nbsp;• negative -1 to length <br>\n",
    "• slicing<br>\n",
    "&nbsp;• variable names[start:end:step]<br>\n",
    "&nbsp;• start : int = include<br>\n",
    "&nbsp;• end : int = n-1<br>\n",
    "&nbsp;• step : int = sequance<br>"
   ]
  },
  {
   "cell_type": "code",
   "execution_count": 57,
   "metadata": {},
   "outputs": [
    {
     "name": "stdout",
     "output_type": "stream",
     "text": [
      "Banana\n",
      "Banana\n",
      "Kiwi\n"
     ]
    }
   ],
   "source": [
    "# old way\n",
    "# ->                     0       1       2\n",
    "fruits : list[str] = [\"Banana\",\"Kiwi\", \"Apple\"]\n",
    "# <-                    -3      -2        -1\n",
    "\n",
    "print(fruits[0]) # Banana\n",
    "print(fruits[-3]) # Banana\n",
    "\n",
    "print(fruits[-2]) # Kiwi"
   ]
  },
  {
   "cell_type": "markdown",
   "metadata": {},
   "source": [
    "type keyword, Any type"
   ]
  },
  {
   "cell_type": "code",
   "execution_count": 58,
   "metadata": {},
   "outputs": [
    {
     "name": "stdout",
     "output_type": "stream",
     "text": [
      "20\n",
      "types of name is <class 'list'>\n"
     ]
    }
   ],
   "source": [
    "from typing import Any\n",
    "\n",
    "# ->                    0        1      2   3     4\n",
    "names : list[Any] = [\"Moosa\",\"Ahmad\", None, 20, True]\n",
    "# <-                    -5    -4     -3   -2   -1\n",
    "\n",
    "print(names[-2])\n",
    "print(\"types of name is\",type(names))"
   ]
  },
  {
   "cell_type": "markdown",
   "metadata": {},
   "source": [
    "### List() method"
   ]
  },
  {
   "cell_type": "code",
   "execution_count": 59,
   "metadata": {},
   "outputs": [
    {
     "name": "stdout",
     "output_type": "stream",
     "text": [
      "making list by list() method ['a', 'b', 'c', 'd', 'e', 'f', 'g', 'h', 'i', 'j', 'k', 'l', 'n', 'm', 'n', 'o', 'p', 'q', 'r', 's', 't', 'u', 'v', 'w', 'x', 'y', 'z']\n",
      "making list by list() method ['a', 'b', 'c', 'd', 'e', 'f', 'g', 'h', 'i', 'j', 'k', 'l', 'n', 'm', 'n', 'o', 'p', 'q', 'r', 's', 't', 'u', 'v', 'w', 'x', 'y', 'z']\n"
     ]
    }
   ],
   "source": [
    "print(\"making list by list() method\",list('abcdefghijklnmnopqrstuvwxyz'))\n",
    "letters:list[str]=list('abcdefghijklnmnopqrstuvwxyz')\n",
    "print(\"making list by list() method\",letters)\n"
   ]
  },
  {
   "cell_type": "markdown",
   "metadata": {},
   "source": [
    "## Slicing"
   ]
  },
  {
   "cell_type": "markdown",
   "metadata": {},
   "source": [
    "##### Positive Slicing"
   ]
  },
  {
   "cell_type": "code",
   "execution_count": 60,
   "metadata": {},
   "outputs": [
    {
     "name": "stdout",
     "output_type": "stream",
     "text": [
      "['A', 'B']\n",
      "['A', 'B']\n",
      "['A', 'B']\n",
      "['A', 'B']\n",
      "['A', 'B']\n",
      "['A', 'B', 'C', 'D', 'E']\n",
      "['D', 'E', 'F', 'G', 'H', 'I', 'J', 'K', 'L', 'M', 'N', 'O', 'P', 'Q', 'R', 'S', 'T', 'U', 'V', 'W', 'X', 'Y', 'Z']\n",
      "['A', 'C', 'E', 'G', 'I', 'K', 'M', 'O', 'Q', 'S', 'U', 'W', 'Y']\n",
      "['A', 'B', 'C', 'D', 'E', 'F', 'G', 'H', 'I', 'J', 'K', 'L', 'M', 'N', 'O', 'P', 'Q', 'R', 'S', 'T', 'U', 'V', 'W', 'X', 'Y', 'Z']\n"
     ]
    }
   ],
   "source": [
    "#->                        0    1    2 and so on...                                                                                                    25\n",
    "characters : list[str] = ['A', 'B', 'C', 'D', 'E', 'F', 'G', 'H', 'I', 'J', 'K', 'L', 'M', 'N', 'O', 'P', 'Q', 'R', 'S', 'T', 'U', 'V', 'W', 'X', 'Y','Z']\n",
    "#->                       -26   -25  -24                                                                                                  and so on... -1\n",
    "\n",
    "# defualt slicing go from left to right\n",
    "print(characters[0:2]) # 0= include : index 2-1 = 1\n",
    "print(characters[:2]) # not pass any number = all\n",
    "print(characters[-26:-24])# 0= include : index -24-1 = -25\n",
    "print(characters[0:2:1]) # 0= include : index 2-1 = 1\n",
    "print(characters[0:2:]) # 0= include : index 2-1 = 1\n",
    "print(characters[:5]) # it takes from start to 4 index\n",
    "print(characters[3:]) # it takes from 3 index to last\n",
    "print(characters[::2]) # it take every odd index\n",
    "print(characters[::]) # it takes all values\n"
   ]
  },
  {
   "cell_type": "markdown",
   "metadata": {},
   "source": [
    "##### Negative Slicing "
   ]
  },
  {
   "cell_type": "code",
   "execution_count": 61,
   "metadata": {},
   "outputs": [
    {
     "name": "stdout",
     "output_type": "stream",
     "text": [
      "['G', 'F', 'E']\n",
      "['H', 'G', 'F', 'E', 'D', 'C', 'B', 'A']\n"
     ]
    }
   ],
   "source": [
    "#                          0    1    2    3    4   5     6    7\n",
    "characters : list[str] = ['A', 'B', 'C', 'D', 'E', 'F', 'G', 'H']\n",
    "#                         -8    -7   -6  -5    -4   -3   -2   -1\n",
    "\n",
    "# iteration slicing ->\n",
    "# step -> positive\n",
    "# step <- negative\n",
    "print(characters[-2:-5:-1]) \n",
    "print(characters[::-1]) # it print all form reverse"
   ]
  },
  {
   "cell_type": "markdown",
   "metadata": {},
   "source": [
    "## all methods and attributes"
   ]
  },
  {
   "cell_type": "code",
   "execution_count": 62,
   "metadata": {},
   "outputs": [
    {
     "data": {
      "text/plain": [
       "['append',\n",
       " 'clear',\n",
       " 'copy',\n",
       " 'count',\n",
       " 'extend',\n",
       " 'index',\n",
       " 'insert',\n",
       " 'pop',\n",
       " 'remove',\n",
       " 'reverse',\n",
       " 'sort']"
      ]
     },
     "execution_count": 62,
     "metadata": {},
     "output_type": "execute_result"
    }
   ],
   "source": [
    "[i for i in dir(list) if \"__\" not in i]\n"
   ]
  },
  {
   "cell_type": "markdown",
   "metadata": {},
   "source": [
    "## del method"
   ]
  },
  {
   "cell_type": "code",
   "execution_count": 63,
   "metadata": {},
   "outputs": [
    {
     "ename": "NameError",
     "evalue": "name 'a' is not defined",
     "output_type": "error",
     "traceback": [
      "\u001b[1;31m---------------------------------------------------------------------------\u001b[0m",
      "\u001b[1;31mNameError\u001b[0m                                 Traceback (most recent call last)",
      "Cell \u001b[1;32mIn[63], line 3\u001b[0m\n\u001b[0;32m      1\u001b[0m a: \u001b[38;5;28mlist\u001b[39m[\u001b[38;5;28mstr\u001b[39m] \u001b[38;5;241m=\u001b[39m [\u001b[38;5;241m1\u001b[39m,\u001b[38;5;241m2\u001b[39m,\u001b[38;5;241m3\u001b[39m]\n\u001b[0;32m      2\u001b[0m \u001b[38;5;28;01mdel\u001b[39;00m a \u001b[38;5;66;03m# remove object from memory\u001b[39;00m\n\u001b[1;32m----> 3\u001b[0m \u001b[38;5;28mprint\u001b[39m(\u001b[43ma\u001b[49m) \u001b[38;5;66;03m# it raise an error\u001b[39;00m\n",
      "\u001b[1;31mNameError\u001b[0m: name 'a' is not defined"
     ]
    }
   ],
   "source": [
    "a: list[str] = [1,2,3]\n",
    "del a # remove object from memory\n",
    "print(a) # it raise an error"
   ]
  },
  {
   "cell_type": "markdown",
   "metadata": {},
   "source": [
    "### clear method"
   ]
  },
  {
   "cell_type": "code",
   "execution_count": null,
   "metadata": {},
   "outputs": [
    {
     "name": "stdout",
     "output_type": "stream",
     "text": [
      "[]\n"
     ]
    }
   ],
   "source": [
    "a: list[str] = [1,2,3]\n",
    "a.clear()# remove all element but object is ramin\n",
    "print(a)"
   ]
  },
  {
   "cell_type": "markdown",
   "metadata": {},
   "source": [
    "## Help\n",
    "• help(object)<br>\n",
    "• object?<br>\n",
    "• object??<br>\n",
    "• ?object<br>\n",
    "• ??object <br>"
   ]
  },
  {
   "cell_type": "code",
   "execution_count": null,
   "metadata": {},
   "outputs": [
    {
     "name": "stdout",
     "output_type": "stream",
     "text": [
      "Help on built-in function print in module builtins:\n",
      "\n",
      "print(*args, sep=' ', end='\\n', file=None, flush=False)\n",
      "    Prints the values to a stream, or to sys.stdout by default.\n",
      "\n",
      "    sep\n",
      "      string inserted between values, default a space.\n",
      "    end\n",
      "      string appended after the last value, default a newline.\n",
      "    file\n",
      "      a file-like object (stream); defaults to the current sys.stdout.\n",
      "    flush\n",
      "      whether to forcibly flush the stream.\n",
      "\n"
     ]
    }
   ],
   "source": [
    "help(print)\n"
   ]
  },
  {
   "cell_type": "code",
   "execution_count": null,
   "metadata": {},
   "outputs": [
    {
     "name": "stdout",
     "output_type": "stream",
     "text": [
      "\u001b[1;31mSignature:\u001b[0m \u001b[0mprint\u001b[0m\u001b[1;33m(\u001b[0m\u001b[1;33m*\u001b[0m\u001b[0margs\u001b[0m\u001b[1;33m,\u001b[0m \u001b[0msep\u001b[0m\u001b[1;33m=\u001b[0m\u001b[1;34m' '\u001b[0m\u001b[1;33m,\u001b[0m \u001b[0mend\u001b[0m\u001b[1;33m=\u001b[0m\u001b[1;34m'\\n'\u001b[0m\u001b[1;33m,\u001b[0m \u001b[0mfile\u001b[0m\u001b[1;33m=\u001b[0m\u001b[1;32mNone\u001b[0m\u001b[1;33m,\u001b[0m \u001b[0mflush\u001b[0m\u001b[1;33m=\u001b[0m\u001b[1;32mFalse\u001b[0m\u001b[1;33m)\u001b[0m\u001b[1;33m\u001b[0m\u001b[1;33m\u001b[0m\u001b[0m\n",
      "\u001b[1;31mDocstring:\u001b[0m\n",
      "Prints the values to a stream, or to sys.stdout by default.\n",
      "\n",
      "sep\n",
      "  string inserted between values, default a space.\n",
      "end\n",
      "  string appended after the last value, default a newline.\n",
      "file\n",
      "  a file-like object (stream); defaults to the current sys.stdout.\n",
      "flush\n",
      "  whether to forcibly flush the stream.\n",
      "\u001b[1;31mType:\u001b[0m      builtin_function_or_method"
     ]
    }
   ],
   "source": [
    "??print\n"
   ]
  },
  {
   "cell_type": "markdown",
   "metadata": {},
   "source": [
    "## Editing list"
   ]
  },
  {
   "cell_type": "code",
   "execution_count": null,
   "metadata": {},
   "outputs": [
    {
     "name": "stdout",
     "output_type": "stream",
     "text": [
      "before editing ['Kiwi', 'Banana', 'Apple']\n",
      "after editing ['Mango', 'Banana', 'Apple']\n"
     ]
    }
   ],
   "source": [
    "# ->                    0        1         2\n",
    "fruits : list[str] = [\"Kiwi\",\"Banana\", \"Apple\"]\n",
    "# <-                    -3     -2         -1\n",
    "\n",
    "print(\"before editing\",fruits)\n",
    "\n",
    "fruits[0] = \"Mango\" # mutable -> editable\n",
    "\n",
    "print(\"after editing\",fruits)"
   ]
  },
  {
   "cell_type": "markdown",
   "metadata": {},
   "source": [
    "##### We can also delete a specific index using del method"
   ]
  },
  {
   "cell_type": "code",
   "execution_count": null,
   "metadata": {},
   "outputs": [
    {
     "name": "stdout",
     "output_type": "stream",
     "text": [
      "before deleting 2nd index ['Kiwi', 'Banana', 'Apple']\n",
      "after deleting second index ['Kiwi', 'Banana']\n"
     ]
    }
   ],
   "source": [
    "# ->                    0        1         2\n",
    "fruits : list[str] = [\"Kiwi\",\"Banana\", \"Apple\"]\n",
    "# <-                    -3     -2         -1\n",
    "\n",
    "print(\"before deleting 2nd index\",fruits)\n",
    "\n",
    "del fruits[2] # delete 2 index element\n",
    "\n",
    "print(\"after deleting second index\",fruits)"
   ]
  },
  {
   "cell_type": "markdown",
   "metadata": {},
   "source": [
    "##### If we use print inside a print statement then it give one print and one none and if I use id function it give me the id because id is returnable function and print are not-return function\n"
   ]
  },
  {
   "cell_type": "code",
   "execution_count": null,
   "metadata": {},
   "outputs": [
    {
     "name": "stdout",
     "output_type": "stream",
     "text": [
      "Pakistan\n",
      "None\n",
      "140713554298656\n"
     ]
    }
   ],
   "source": [
    "a : str = print(\"Pakistan\") # none-return function\n",
    "b : str = id(a) # return function\n",
    "\n",
    "print(a)\n",
    "print(b)"
   ]
  },
  {
   "cell_type": "markdown",
   "metadata": {},
   "source": [
    "### pop method if we don't give any argument in pop() method so it delete last index\n"
   ]
  },
  {
   "cell_type": "code",
   "execution_count": null,
   "metadata": {},
   "outputs": [
    {
     "name": "stdout",
     "output_type": "stream",
     "text": [
      "['Kwi', 'Apple', 'Banana']\n",
      "Banana\n",
      "['Kwi', 'Apple']\n"
     ]
    }
   ],
   "source": [
    "fruits:list[str]=[\"Kwi\",\"Apple\",\"Banana\"]\n",
    "print(fruits)\n",
    "a : str = fruits.pop() # pop return method\n",
    "\n",
    "print(a)\n",
    "print(fruits)"
   ]
  },
  {
   "cell_type": "code",
   "execution_count": null,
   "metadata": {},
   "outputs": [
    {
     "name": "stdout",
     "output_type": "stream",
     "text": [
      "['Kwi', 'Apple', 'Banana']\n",
      "Kwi\n",
      "['Apple', 'Banana']\n"
     ]
    }
   ],
   "source": [
    "fruits:list[str]=[\"Kwi\",\"Apple\",\"Banana\"]\n",
    "print(fruits)\n",
    "a : str = fruits.pop(0) # pop return method\n",
    "\n",
    "print(a)\n",
    "print(fruits)"
   ]
  },
  {
   "cell_type": "markdown",
   "metadata": {},
   "source": [
    "## append method add element in last\n"
   ]
  },
  {
   "cell_type": "code",
   "execution_count": null,
   "metadata": {},
   "outputs": [
    {
     "name": "stdout",
     "output_type": "stream",
     "text": [
      "['kwi', 'apple', 'Banana', 'Mango', 'Gauva']\n"
     ]
    }
   ],
   "source": [
    "fruits : list[str] = ['kwi','apple']\n",
    "\n",
    "fruits.append(\"Banana\")# add element in last\n",
    "fruits.append(\"Mango\") # add element in last\n",
    "fruits.append(\"Gauva\")# add element in last\n",
    "\n",
    "print(fruits)"
   ]
  },
  {
   "cell_type": "markdown",
   "metadata": {},
   "source": [
    "### If we want to add an element on particular index we will use insert() method"
   ]
  },
  {
   "cell_type": "code",
   "execution_count": null,
   "metadata": {},
   "outputs": [
    {
     "name": "stdout",
     "output_type": "stream",
     "text": [
      "['kwi', 'apple', 'Banana', 'Mango', 'Gauva']\n"
     ]
    }
   ],
   "source": [
    "fruits : list[str] = ['kwi','apple']\n",
    "\n",
    "fruits.insert(2,\"Banana\")# add element on particular index\n",
    "fruits.insert(6,\"Mango\") # add element on particular index, now it add on 6 index but there are only 0-2 idex so it adds on 3 index\n",
    "fruits.insert(7,\"Gauva\")# add element on particular index\n",
    "\n",
    "print(fruits)"
   ]
  },
  {
   "cell_type": "markdown",
   "metadata": {},
   "source": [
    "##### what if we use print(print(\"pakistan\"))?"
   ]
  },
  {
   "cell_type": "code",
   "execution_count": null,
   "metadata": {},
   "outputs": [
    {
     "name": "stdout",
     "output_type": "stream",
     "text": [
      "Pakistan\n",
      "None\n"
     ]
    }
   ],
   "source": [
    "print(print(\"Pakistan\"))\n"
   ]
  },
  {
   "cell_type": "markdown",
   "metadata": {},
   "source": [
    "Copy Method"
   ]
  },
  {
   "cell_type": "code",
   "execution_count": null,
   "metadata": {},
   "outputs": [
    {
     "name": "stdout",
     "output_type": "stream",
     "text": [
      "['a', 'b', 'c']\n",
      "['a', 'b', 'c']\n",
      "['pakistan', 'b', 'c']\n",
      "['pakistan', 'b', 'c']\n",
      "now we are using copy method\n",
      "c ['a', 'b', 'c']\n",
      "d ['a', 'b', 'c']\n",
      "c ['a', 'b', 'c']\n",
      "d ['pakistan', 'b', 'c']\n"
     ]
    }
   ],
   "source": [
    "a : list[str] = ['a','b','c']\n",
    "b = a # shallow copy\n",
    "print(a)\n",
    "print(b)\n",
    "\n",
    "b[0] = 'pakistan' # change only b variable but both variable updated\n",
    "\n",
    "print(a)\n",
    "print(b)\n",
    " \n",
    "print(\"now we are using copy method\") \n",
    "\n",
    "c : list[str] = ['a','b','c']\n",
    "d = c.copy() # Deep copy\n",
    "print(\"c\",c)\n",
    "print(\"d\",d)\n",
    "\n",
    "d[0] = 'pakistan' # change only d variable but both variable updated\n",
    "\n",
    "print(\"c\",c)\n",
    "print(\"d\",d)"
   ]
  },
  {
   "cell_type": "markdown",
   "metadata": {},
   "source": [
    "#### count() method, it tells that the word we give as argument comes how many times in list"
   ]
  },
  {
   "cell_type": "code",
   "execution_count": null,
   "metadata": {},
   "outputs": [
    {
     "name": "stdout",
     "output_type": "stream",
     "text": [
      "2\n",
      "3\n"
     ]
    }
   ],
   "source": [
    "# count\n",
    "char : list[str] = ['a','a','a','b','c','c']\n",
    "print(char.count(\"c\"))\n",
    "print(char.count(\"a\"))"
   ]
  },
  {
   "cell_type": "markdown",
   "metadata": {},
   "source": [
    "#### append with variable vs extend() method"
   ]
  },
  {
   "cell_type": "code",
   "execution_count": null,
   "metadata": {},
   "outputs": [
    {
     "name": "stdout",
     "output_type": "stream",
     "text": [
      "Before appending ['Kiwi', 'Banana']\n",
      "Before extending ['Kiwi', 'Banana']\n",
      "After appending ['Kiwi', 'Banana', ['Apple', 'Mango']]\n",
      "After extending ['Kiwi', 'Banana', 'Apple', 'Mango']\n"
     ]
    }
   ],
   "source": [
    "fruits1 : list[str] = [\"Kiwi\",\"Banana\"] # GenAI founder members\n",
    "fruits2 : list[str] = [\"Kiwi\",\"Banana\"] # GenAI founder members\n",
    "\n",
    "new_fruits : list[str] = ['Apple',\"Mango\"]\n",
    "print(\"Before appending\",fruits2)\n",
    "print(\"Before extending\",fruits1)\n",
    "fruits1.extend(new_fruits)\n",
    "fruits2.append(new_fruits)\n",
    "\n",
    "print(\"After appending\",fruits2)\n",
    "print(\"After extending\",fruits1)\n"
   ]
  },
  {
   "cell_type": "markdown",
   "metadata": {},
   "source": [
    "### REMOVE METHOD"
   ]
  },
  {
   "cell_type": "code",
   "execution_count": null,
   "metadata": {},
   "outputs": [
    {
     "name": "stdout",
     "output_type": "stream",
     "text": [
      "before removing mango ['kiwi', 'banana', 'mango', 'mango']\n",
      "after removing mango ['kiwi', 'banana', 'mango']\n"
     ]
    }
   ],
   "source": [
    "fruits1:list[str]=[\"kiwi\",\"banana\",\"mango\",\"mango\"]\n",
    "print(\"before removing mango\",fruits1)\n",
    "fruits1.remove(\"mango\")\n",
    "print(\"after removing mango\",fruits1)\n"
   ]
  },
  {
   "cell_type": "markdown",
   "metadata": {},
   "source": [
    "##  index method"
   ]
  },
  {
   "cell_type": "code",
   "execution_count": null,
   "metadata": {},
   "outputs": [
    {
     "name": "stdout",
     "output_type": "stream",
     "text": [
      "jawad index is 2\n"
     ]
    }
   ],
   "source": [
    "names:list[str]=[\"ahmad\",\"moosa\",\"jawad\"]\n",
    "print(\"jawad index is\",names.index(\"jawad\")) # 1\n"
   ]
  },
  {
   "cell_type": "code",
   "execution_count": null,
   "metadata": {},
   "outputs": [
    {
     "name": "stdout",
     "output_type": "stream",
     "text": [
      "jawad(second occurence) index is 3\n"
     ]
    }
   ],
   "source": [
    "names:list[str]=[\"jawad\",\"ahmad\",\"moosa\",\"jawad\"]\n",
    "print(\"jawad(second occurence) index is\",names.index(\"jawad\",2)) # 3\n"
   ]
  },
  {
   "cell_type": "markdown",
   "metadata": {},
   "source": [
    "## reverse method"
   ]
  },
  {
   "cell_type": "code",
   "execution_count": null,
   "metadata": {},
   "outputs": [
    {
     "name": "stdout",
     "output_type": "stream",
     "text": [
      "['A', 'C', 'B', 'D', 'E', 'F']\n",
      "['F', 'E', 'D', 'B', 'C', 'A']\n"
     ]
    }
   ],
   "source": [
    "char :list[str] = list(\"ACBDEF\")\n",
    "print(char)\n",
    "char.reverse() #in-memory = change real data\n",
    "print(char)"
   ]
  },
  {
   "cell_type": "markdown",
   "metadata": {},
   "source": [
    "### sort() method "
   ]
  },
  {
   "cell_type": "code",
   "execution_count": null,
   "metadata": {},
   "outputs": [
    {
     "name": "stdout",
     "output_type": "stream",
     "text": [
      "[1, 2, 3, 4, 5, 9, 0]\n",
      "[0, 1, 2, 3, 4, 5, 9]\n"
     ]
    }
   ],
   "source": [
    "num :list[int] = [1,2,3,4,5,9,0]\n",
    "print(num)\n",
    "num.sort() #in-memory = change real data sort\n",
    "print(num)"
   ]
  },
  {
   "cell_type": "markdown",
   "metadata": {},
   "source": [
    "#### we can also reverse the sort result"
   ]
  },
  {
   "cell_type": "code",
   "execution_count": null,
   "metadata": {},
   "outputs": [
    {
     "name": "stdout",
     "output_type": "stream",
     "text": [
      "[2, 6, 51, 3, 4, 5, 9, 0]\n",
      "[51, 9, 6, 5, 4, 3, 2, 0]\n"
     ]
    }
   ],
   "source": [
    "num :list[int] = [2,6,51,3,4,5,9,0]\n",
    "print(num)\n",
    "num.sort(reverse=True) #in-memory = change real data sort\n",
    "print(num)"
   ]
  },
  {
   "cell_type": "markdown",
   "metadata": {},
   "source": [
    "## len() methods"
   ]
  },
  {
   "cell_type": "code",
   "execution_count": null,
   "metadata": {},
   "outputs": [
    {
     "name": "stdout",
     "output_type": "stream",
     "text": [
      "3\n"
     ]
    }
   ],
   "source": [
    "names:list[str]=[\"Ahmad\",\"Jawad\",\"Moosa\"]\n",
    "print(len(names))\n"
   ]
  }
 ],
 "metadata": {
  "kernelspec": {
   "display_name": "python12",
   "language": "python",
   "name": "python3"
  },
  "language_info": {
   "codemirror_mode": {
    "name": "ipython",
    "version": 3
   },
   "file_extension": ".py",
   "mimetype": "text/x-python",
   "name": "python",
   "nbconvert_exporter": "python",
   "pygments_lexer": "ipython3",
   "version": "3.12.0"
  }
 },
 "nbformat": 4,
 "nbformat_minor": 2
}
